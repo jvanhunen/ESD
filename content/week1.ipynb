{
 "cells": [
  {
   "cell_type": "markdown",
   "metadata": {},
   "source": [
    "# The heat equation\n",
    "\n",
    "## Heat diffusion\n",
    "The process of diffusion has applications in almost every science: Darcy flow for porous media flow, electrical conduction, chemical diffusion, and, as we will discuss here, heat diffusion. All these processes can essentially be described with the same basic equation, which can be fairly easily derived. Those of you who did Further Mathematics (GEOL1081) in Year 1 will have done this before, in the form of derivation of Fick's first and second law.\n",
    "\n",
    "The diffusion equation relies on two principles:\n",
    "\n",
    "1. Diffusion occurs in the direction of, and is proportional to, a concentration gradient. In the case of heat diffusion, heat flows from hot to cold areas, and heat flow is proportional to the temperature gradient. This principle is known as Fourier's law.\n",
    "2. The amount of diffusing substance is conserved. For heat, the amount of thermal energy should be balanced; without any heat sinks or heat sources, the amount of thermal energy in a system cannot change. "
   ]
  },
  {
   "cell_type": "markdown",
   "metadata": {},
   "source": [
    "## Fourier's law\n",
    "Fourier's law is an empirical equation named after Joseph Fourier, who published his theory on heat flux in 1822. In one dimension, heat flux $q_x$, which is the amount of heat that flows through one square metre of surface area and therefore has units of ${\\mathrm W/m^2}$, is given by:\n",
    "\n",
    "$$ \n",
    "q_x = -k \\frac{dT}{dx}\n",
    "\\label{eq:Fourier's law}\n",
    "$$\n",
    "\n",
    "Heat flows from hot to cold areas, so in the direction of negative temperature gradient $\\frac{dT}{dx}$, hence the minus sign. The steeper the temperature gradient, the faster heat flows. Heat flux is also proportional to heat conductivity $k$, which is a material parameter:\n",
    "\n",
    "![Fourier's law](images/Fouriers_law.png)\n",
    "_Fourier's law $q_x = -k \\frac{dT}{dx}$ describes how heat flows from a hot area (in this case with temperature $T+dT$ to a cold area with temperature $T$), and the heat flow is proportional to the temperature gradient $\\frac{dT}{dx}$ and the heat conductivity $k$._\n",
    "\n",
    "So inhomogeneous temperature distributions will result in the flow of heat. But heat flux, in return, will lead to changes in the temperature distribution., which is not captured in Fourier's law. For that we need an additional constraint: the _conservation of heat_."
   ]
  },
  {
   "cell_type": "markdown",
   "metadata": {},
   "source": [
    "## Conservation of heat\n",
    "Many fundamental equations are derived using the simple concept of conservation of something. In this case, we will make the assumption of the conservation of total (thermal) energy in the system. Consider a arbitrary volume $V=\\Delta x \\Delta y \\Delta z$ of material as depicted in figure below. Such volume is often referred to as a {\\it control volume}. The volume contains a certain amount of thermal energy $E$, which is determined by its temperature: \n",
    "\n",
    "$$ \n",
    "E = M C_p T = \\rho V C_p T = \\rho \\Delta x \\Delta y \\Delta z C_p T \n",
    "\\label{eq:E-T}\n",
    "$$\n",
    " \n",
    "in which $M$, $\\rho$, and $C_p$ are the mass, density and {\\it specific heat} (also known as _heat capacity_) of the material in the volume, respectively. This heat capacity is defined as the energy that is required to heat up 1 kg of material by $1^o$C, or 1 K. Heat can flow in and out of the volume, but this heat flow will be accounted for by the following energy balance: \n",
    "\n",
    "> The thermal energy increase/decrease in the volume must equal the amount of thermal energy flowing in/out of the volume.\n",
    "\n",
    "Let's first restrict ourselves to a 1-D scenario, i.e. heat (or thermal energy) flowing only in the $x$-direction, $Q_x$, which means that the top/bottom/front/back faces of the volume are perfectly insulating, and do not allow any heat flowing through them, and $Q_y = Q_z = 0$. So heat only flows in or out through the left boundary at location $x$, and through the right boundary at location $x+\\Delta x$. We can then translate the above thermal energy balance sentence into a mathematical equation:\n",
    "$$\n",
    "    \\frac{dE}{dt} = Q_x(x) - Q_x(x+\\Delta x) \n",
    "    \\label{eq:heat balance 1}\n",
    "$$\n",
    "In the figure below, the coordinate system is chosen such that $x$ increases to the right. So positive heat flow $Q_x$ is to the right, and negative heat flow is to the left. So positive heat flow at the left boundary at location $x$ will flow into the volume, while positive heat flow at location $x+\\Delta x$ will lead to heat flowing out of the volume. This explains the minus sign in equation above.\n",
    "\n",
    "![Heat conservation](images/heat_conservation.png)\n",
    "_Small, arbitrary volume for which the conservation of thermal energy will be derived._\n"
   ]
  },
  {
   "cell_type": "markdown",
   "metadata": {},
   "source": [
    "The total heat flow $Q_x$ (in units of Watts, W) through the left or right surface is defined by the {\\it heat flux $q_x$} (in units of ${\\mathrm W/m^2}$) and the area of the surface $A=\\Delta y \\Delta z$ (in ${\\mathrm m^2}$) as:\n",
    "$$\n",
    "    Q=q\\Delta y \\Delta z\n",
    "    \\label{eq:heat flux}\n",
    "$$\n",
    "Combining Equations \\ref{eq:E-T} to \\ref{eq:heat flux} gives:\n",
    "$$\n",
    "    \\rho C_p \\frac{dT}{dt} = \\frac{q_x(x) - q_x(x+\\Delta x)}{\\Delta x}\n",
    "    \\label{eq:heat balance 2}\n",
    "$$\n",
    "\n",
    "The right-hand side of Equation \\ref{eq:heat balance 2} can be simplified further by a) recognizing that Equation \\ref{eq:heat balance 1} applies to volumes of any size, including those that are infinitesimally small, so that $\\Delta x \\downarrow 0$, and b) using the 1st-order Taylor expansion:\n",
    "$$\n",
    "    f(x+\\Delta x) = f(x) + \\frac{df}{dx}\\Delta x + O(\\Delta x^2)\n",
    "$$\n",
    "By ignoring the negligibly small term $O(\\Delta x^2)$ if $\\Delta x \\downarrow 0$, and rearranging gives:\n",
    "$$\n",
    "    \\frac{df}{dx} = \\frac{f(x+\\Delta x) - f(x)}{\\Delta x}\n",
    "    \\label{eq:derivative}\n",
    "$$\n",
    "Using this in Equation \\ref{eq:heat balance 1} gives:\n",
    "$$\n",
    "    \\rho C_p \\frac{dT}{dt} = -\\frac{dq}{dx}\n",
    "    \\label{eq:heat balance 3}\n",
    "$$\n",
    "\n",
    "## The heat diffusion equation\n",
    "Section \\ref{sec:Fourier's law} shows how Fourier's law describes how heat flux can be calculated from the temperature distribution, while section \\ref{sec:Conservation of heat} describes how heat flux affects the temperature in return. While temperature is fairly easily measured, heat flux is not, so this equation is not very useful in practice. We could replace the heat flux in Equation \\ref{eq:heat balance 2} with Fourier's law (Equation \\ref{eq:Fourier's law}) to eliminate the explicit appearance of heat flux from the equation:\n",
    "$$\n",
    "    \\rho C_p \\frac{\\partial T}{\\partial t} = \\frac{\\partial}{\\partial x} (k \\frac{\\partial T}{\\partial x}) \n",
    "    \\label{eq:heat diff 1}\n",
    "$$\n",
    "This is the heat diffusion equation in one dimension. Note that in Equation \\ref{eq:heat diff 1}, the normal derivative symbol $d$ is replaced by a partial derivative symbol $\\partial$. This is simply to illustrate that temperature $T$ has derivatives to both time $t$ and spatial dimension $x$.\n",
    "\n",
    "Equation \\ref{eq:heat diff 1} contains three material properties: density $\\rho$, heat capacity $C_p$, and heat conductivity $k$. Often the three are combined in to a single material property, the {\\it heat diffusivity} $\\kappa = \\frac{k}{\\rho C_p}$. If $k$ is constant, we could write:\n",
    "$$\n",
    "    \\rho C_p \\frac{\\partial T}{\\partial t} = k \\frac{\\partial}{\\partial x} \\frac{\\partial T}{\\partial x} = k \\frac{\\partial^2 T}{\\partial x^2}\n",
    "    \\label{eq:heat diff 2}\n",
    "$$\n",
    "or\n",
    "$$\n",
    "    \\frac{\\partial T}{\\partial t} = \\kappa \\frac{\\partial^2 T}{\\partial x^2}\n",
    "    \\label{eq:heat diff 3}\n",
    "$$\n",
    "\n",
    "## Heat advection\n",
    "Heat advection occurs when material is flowing around: as it moves, it transports thermal energy from one place to another. To describe this mathematically, we can use a very similar approach to the one used in section \\ref{sec:Conservation of heat}, which is illustrated in Figure \\ref{fig:heat_advection}.\n",
    "![Heat advection](images/heat_advection.png)\n",
    "_Control volume used to mathematically describe the conservation of thermal energy during heat advection._\n",
    "    \\label{fig:heat_advection}\n",
    "\n",
    "Again, let's first consider the 1-D case of heat advection only in the $x$-direction. If we assume that the material in the volume is incompressible, then the amount of material flowing in on one end must equal the amount of material flowing out on the other end. But the in- and outflow temperatures can be different. If the inflow is hotter than the outflow, then the net amount of thermal energy inside the control volume will increase:\n",
    "$$\n",
    "    \\frac{dE}{dt} = E_{adv,x}(x) - E_{adv,x}(x+\\Delta x)\n",
    "    \\label{eq:heat adv 1}\n",
    "$$\n",
    "where $E$ is again the thermal energy inside the control volume, and $E_{adv,x}$ is the thermal energy flowing in our out the volume in $x$-direction per unit of time. We now use again Equation \\ref{eq:E-T} and one similar to Equation \\ref{eq:heat flux} for $E_{adv,x}$:\n",
    "$$\n",
    "    E_{adv,x} = \\Delta y \\Delta z v_x \\rho C_p T\n",
    "    \\label{eq:E-T}\n",
    "$$\n",
    "\n",
    "where $v_x$ is the flow velocity. Combining these last two equations gives:\n",
    "$$\n",
    "    \\rho C_p \\frac{\\partial T}{\\partial t} = \\rho C_p v_x \\frac{T (x) - T(x+\\Delta x)}{\\Delta x} \n",
    "    \\label{eq:heat adv 2}\n",
    "$$\n",
    "which, with Equation \\ref{eq:derivative}, simplifies to:\n",
    "$$\n",
    "    \\frac{\\partial T}{\\partial t} = -v_x\\frac{\\partial T}{\\partial x} \n",
    "    \\label{eq:heat adv 3}\n",
    "$$"
   ]
  },
  {
   "cell_type": "markdown",
   "metadata": {},
   "source": [
    "## Heat production\n",
    "Even in the absence of heat advection or diffusion, the temperature at any point in the Earth can change through (radiogenic) heat production. Once again, the same control volume $V$ can be used to describe it mathematically:\n",
    "$$\n",
    "    \\frac{dE}{dt} = M H\n",
    "    \\label{eq:heat prod 1}\n",
    "$$\n",
    "where the total heat production inside the control volume is the product of $H$ (the heat production per unit mass, with units of W/kg) and the mass $M$ (in kg). Using once again Equation \\ref{eq:E-T} and writing $M=\\rho V = \\rho \\Delta x \\Delta y \\Delta z$ gives:\n",
    "$$\n",
    "    \\frac{dT}{dt} = \\frac{H}{C_p}\n",
    "    \\label{eq:heat prod 2}\n",
    "$$\n",
    "The tables in the lecture notes provide some typical present-day values for the amount of heat production in various Earth materials. Although values are typically very small, and therefore radiogenic heating is a slow process, the total amount of heat production can be significant on geological timescales."
   ]
  },
  {
   "cell_type": "markdown",
   "metadata": {},
   "source": [
    "## A more complete heat equation\n",
    "All of the above processes, heat diffusion, heat advection, and heat production, can occur simultaneously, and in that case we need to consider these processes together. To derive a mathematical equation to describe these processes together, one should regard the right-hand sides of equations \\ref{eq:heat diff 3}, \\ref{eq:heat adv 3}, and \\ref{eq:heat prod 2} as 'source terms' for the temperature change of the left hand side $\\frac{\\partial T}{\\partial t}$. If the different source terms occur simultaneously, they can, and should, be added up, which gives us a total heat equation:\n",
    "$$\n",
    "    \\frac{\\partial T}{\\partial t} = \\kappa \\frac{\\partial^2 T}{\\partial x^2} -v_x\\frac{\\partial T}{\\partial x} + \\frac{H}{C_p}\n",
    "    \\label{eq:heat eq}\n",
    "$$\n",
    "But keep in mind that this is not an exhaustive list of processes that can affect the temperature of the control volume (or more generally, the temperature at any point in the Earth): heat can be transported by radiation, and additional heat sources or sinks exist, such as adiabatic heating. To decide which 'source terms' to include without making the heat equation longer (and therefore more complicated) than necessary, always consider whether any of the terms are significant for the nature (e.g. size, duration, location) of the process."
   ]
  },
  {
   "cell_type": "markdown",
   "metadata": {},
   "source": [
    "##  Exercises week 1, heat transfer in the Earth\n",
    "This set of questions will deal with heat transfer, both in general and applied to the Earth. \n",
    "By working through these questions you will build up a better understanding of some of the key ideas introduced in the lecture. It will also make you familiar with some of the parameters discussed and used throughout the course. All material covered in practicals is examinable."
   ]
  }
 ],
 "metadata": {
  "kernelspec": {
   "display_name": "Python 3",
   "language": "python",
   "name": "python3"
  },
  "language_info": {
   "codemirror_mode": {
    "name": "ipython",
    "version": 3
   },
   "file_extension": ".py",
   "mimetype": "text/x-python",
   "name": "python",
   "nbconvert_exporter": "python",
   "pygments_lexer": "ipython3",
   "version": "3.7.4"
  }
 },
 "nbformat": 4,
 "nbformat_minor": 2
}
