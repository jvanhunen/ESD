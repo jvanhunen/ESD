{
 "cells": [
  {
   "cell_type": "markdown",
   "metadata": {},
   "source": [
    "# The heat equation\n",
    "\n",
    "## Heat diffusion\n",
    "The process of diffusion has applications in almost every science: Darcy flow for porous media flow, electrical conduction, chemical diffusion, and, as we will discuss here, heat diffusion. All these processes can essentially be described with the same basic equation, which can be fairly easily derived. Those of you who did Further Mathematics (GEOL1081) in Year 1 will have done this before, in the form of derivation of Fick's first and second law.\n",
    "\n",
    "The diffusion equation relies on two principles:\n",
    "\n",
    "1. Diffusion occurs in the direction of, and is proportional to, a concentration gradient. In the case of heat diffusion, heat flows from hot to cold areas, and heat flow is proportional to the temperature gradient. This principle is known as Fourier's law.\n",
    "2. The amount of diffusing substance is conserved. For heat, the amount of thermal energy should be balanced; without any heat sinks or heat sources, the amount of thermal energy in a system cannot change. "
   ]
  },
  {
   "cell_type": "markdown",
   "metadata": {},
   "source": [
    "## Fourier's law\n",
    "Fourier's law is an empirical equation named after Joseph Fourier, who published his theory on heat flux in 1822. In one dimension, heat flux $q_x$, which is the amount of heat that flows through one square metre of surface area and therefore has units of ${\\mathrm W/m^2}$, is given by:\n",
    "\n",
    "$$ q_x = -k \\frac{dT}{dx} $$\n",
    "\n",
    "Heat flows from hot to cold areas, so in the direction of negative temperature gradient $\\frac{dT}{dx}$, hence the minus sign. The steeper the temperature gradient, the faster heat flows. Heat flux is also proportional to heat conductivity $k$, which is a material parameter:\n",
    "\n",
    "![Fourier's law](images/Fouriers_law.png)\n",
    "_Fourier's law $q_x = -k \\frac{dT}{dx}$ describes how heat flows from a hot area (in this case with temperature $T+dT$ to a cold area with temperature $T$), and the heat flow is proportional to the temperature gradient $\\frac{dT}{dx}$ and the heat conductivity $k$._\n",
    "\n",
    "So inhomogeneous temperature distributions will result in the flow of heat. But heat flux, in return, will lead to changes in the temperature distribution., which is not captured in Fourier's law. For that we need an additional constraint: the _conservation of heat_."
   ]
  },
  {
   "cell_type": "markdown",
   "metadata": {},
   "source": [
    "## Conservation of heat\n",
    "Many fundamental equations are derived using the simple concept of conservation of something. In this case, we will make the assumption of the conservation of total (thermal) energy in the system. Consider a arbitrary volume $V=\\Delta x \\Delta y \\Delta z$ of material as depicted in figure below. Such volume is often referred to as a {\\it control volume}. The volume contains a certain amount of thermal energy $E$, which is determined by its temperature: \n",
    "\n",
    "$$ E = M C_p T = \\rho V C_p T = \\rho \\Delta x \\Delta y \\Delta z C_p T $$\n",
    " \n",
    "in which $M$, $\\rho$, and $C_p$ are the mass, density and {\\it specific heat} (also known as _heat capacity_) of the material in the volume, respectively. This heat capacity is defined as the energy that is required to heat up 1 kg of material by $1^o$C, or 1 K. Heat can flow in and out of the volume, but this heat flow will be accounted for by the following energy balance: \n",
    "\n",
    "> The thermal energy increase/decrease in the volume must equal the amount of thermal energy flowing in/out of the volume.\n",
    "\n",
    "Let's first restrict ourselves to a 1-D scenario, i.e. heat (or thermal energy) flowing only in the $x$-direction, $Q_x$, which means that the top/bottom/front/back faces of the volume are perfectly insulating, and do not allow any heat flowing through them, and $Q_y = Q_z = 0$. So heat only flows in or out through the left boundary at location $x$, and through the right boundary at location $x+\\Delta x$. We can then translate the above thermal energy balance sentence into a mathematical equation:\n",
    "$$\n",
    "    \\frac{dE}{dt} = Q_x(x) - Q_x(x+\\Delta x) \n",
    "$$\n",
    "In the figure below, the coordinate system is chosen such that $x$ increases to the right. So positive heat flow $Q_x$ is to the right, and negative heat flow is to the left. So positive heat flow at the left boundary at location $x$ will flow into the volume, while positive heat flow at location $x+\\Delta x$ will lead to heat flowing out of the volume. This explains the minus sign in equation above.\n",
    "\n",
    "![Heat conservation](images/heat_conservation.png)\n",
    "_Small, arbitrary volume for which the conservation of thermal energy will be derived._\n"
   ]
  },
  {
   "cell_type": "code",
   "execution_count": null,
   "metadata": {},
   "outputs": [],
   "source": []
  }
 ],
 "metadata": {
  "kernelspec": {
   "display_name": "Python 3",
   "language": "python",
   "name": "python3"
  },
  "language_info": {
   "codemirror_mode": {
    "name": "ipython",
    "version": 3
   },
   "file_extension": ".py",
   "mimetype": "text/x-python",
   "name": "python",
   "nbconvert_exporter": "python",
   "pygments_lexer": "ipython3",
   "version": "3.7.4"
  }
 },
 "nbformat": 4,
 "nbformat_minor": 2
}
