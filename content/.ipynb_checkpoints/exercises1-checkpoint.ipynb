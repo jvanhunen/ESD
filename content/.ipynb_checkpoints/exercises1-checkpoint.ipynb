{
 "cells": [
  {
   "cell_type": "markdown",
   "metadata": {},
   "source": [
    "##  Exercises week 1, heat transfer in the Earth\n",
    "This set of questions will deal with heat transfer, both in general and applied to the Earth. \n",
    "By working through these questions you will build up a better understanding of some of the key ideas introduced in the lecture. It will also make you familiar with some of the parameters discussed and used throughout the course. All material covered in practicals is examinable.\n",
    "\n",
    "<style type=\"text/css\">\n",
    "    ol ol { list-style-type: upper-alpha; }\n",
    "</style>"
   ]
  },
  {
   "cell_type": "markdown",
   "metadata": {},
   "source": [
    "0. __Key ideas/concepts: deriving units of physical parameters__\n",
    "From the definition of heat flow (q) given in the lecture, determine the units of the parameter $k$ (thermal conductivity). The answer should be given in standard SI units - see handout on common material parameters. Add your answers to your parameter handout sheet.\n",
    "    a. Assume a thermal conductivity $k = 4$ (in the units you just calculated in part \\ref{units1a}. Make assumptions for the thickness of a typical continental lithosphere, the surface temperature and the mantle temperature to estimate the typical heat flow through this lithosphere. Ignore radiogenic heating.\n",
    "    a. Suppose we would be able to capture this heat. How large a surface area would we need to run a $40$ W lightbulb?\n",
    "    a. If the whole Earth would be covered with such continental lithosphere, what would be the total heat flow out of the Earth?\n",
    "    a. Compare this to the total surface heat flow of the real Earth, which is around $40$ TW = $40 \\times 10^{12}$ W. How does this compare to your estimate in the previous question, and what could be the reasons for any discrepancy?\n",
    "\n",
    "0. __Key ideas/concepts: deriving units of physical parameters__\n",
    "From the diffusion equation, determine the units for thermal diffusivity, $\\kappa$. The answer should be given in standard SI units - see handout on common material parameters. Add your answers to your parameter handout sheet.\n",
    "\n",
    "0. __Key ideas/concepts: estimating diffusion time- and length scales_\n",
    "Quick estimates can be made on the length- and time scale of heat transfer processes by approximating the differentials from the heat equation (see slide 16 of lecture notes). \n",
    "   0. Use this technique to estimate the approximate diffusive cooling time for the whole mantle (given that the mantle is ~3000 km thick). Is this cooling time likely to be an underestimate or overestimate of the Earth's cooling time and why?\n",
    "   0. A county council in the UK is considering using abandoned mines as geothermal heat source. To achieve that, they consider injecting cold water at one end of an abandoned mine tunnel. The mine tunnel has a width and height of 2 m, and is 1 km long, and the mine walls are significantly warmer than the injected water. How slow will the water have to move through the tunnel so that it has enough time to warm up to approximately the mine wall temperature before reaching the mine exit? Assume that water has a heat capacity of 4200 J/kg,K, a density of 1000 $\\mathrm{kg/m^3}$, and a conductivity of 0.6 W/m,K.\n",
    "\n",
    "0. __Key ideas/concepts: estimating diffusion time- and length scales 2: penetration of periodic surface temperature fluctuations__\n",
    "Use the same technique as in Exercise \\arabic{chapter}.\\ref{estimates1} to estimate:\n",
    "   0. \\label{approx:skindepth} the penetration depth of daily and annual temperature fluctuations.\n",
    "   0. Using separation of variables, an exact, analytical solution can be obtained for the penetration of heat from a surface that heats and cools periodically, of which the solution is: \n",
    "$$\n",
    "    T = T_0 + \\Delta T \\exp{\\left(-z \\sqrt{\\frac{\\omega}{2 \\kappa}}\\right)} \\cos{\\left(\\omega t -z \\sqrt{\\frac{\\omega}{2 \\kappa}}\\right)},\n",
    "$$\n",
    "with $z$ the depth below the surface, $T_0$ the average surface temperature, $\\Delta T$ the periodic temperature fluctuation around the average, and  $\\omega = \\frac{2 \\pi}{\\tau}$ the circular frequency related to the period $\\tau$ of the fluctuation. The 'skin depth' of the temperature fluctuation is defined as the depth where the fluctuations have decreased in amplitude by a factor  $\\displaystyle \\frac{1}{e}$ . Calculate the skin depth for daily and annual temperature fluctuations, and compare your answers to those in part \\ref{approx:skindepth}.\n",
    "\n",
    "0. __Key ideas/concepts: competition between advection and diffusion at mid-ocean ridges__\n",
    "At mid-ocean ridges, advection of upwelling material tends to heat up this area, while diffusion of heat through the surface tends to cool it down.\n",
    "  0. Determine which terms of the heat equation \\ref{eq:heat eq} are relevant for this situation.\n",
    "  0. Use again the technique of approximating the differentials to provide again a simple order-of-magnitude approximation equation (as on slide 16).\n",
    "  0. Estimate the approximate thickness of lithosphere at the mid-ocean ridge for a slow- ($\\sim 1$ cm/yr) and fast-spreading ridge ($\\sim 10$ cm/yr).\n",
    "  0. Can you think of any potential shortcomings in this order-of-magnitude estimate?\n",
    "\n",
    "0. __Key ideas/concepts: the significance of radiogenic heat production__ \n",
    "It is often stated that radiogenic heat production is important in continents, but negligible in oceanic mantle lithosphere. Let's investigate this, using the simplified heat equation \\ref{eq:heat prod 2}.\n",
    "  0. Use the Table from Fowler (see lecture notes slide 20) to look up how much heat is generated in peridotite. Assuming that this heat does not diffuse away, but stays trapped, what would be the local temperature increase over 1 Myr? Assume a local heat capacity $C_P$ of 1000 J/kg,K.\n",
    "  0. How much would this be over the typical lifespan of oceanic lithosphere? Is this a significant temperature increase?"
   ]
  }
 ],
 "metadata": {
  "kernelspec": {
   "display_name": "Python 3",
   "language": "python",
   "name": "python3"
  },
  "language_info": {
   "codemirror_mode": {
    "name": "ipython",
    "version": 3
   },
   "file_extension": ".py",
   "mimetype": "text/x-python",
   "name": "python",
   "nbconvert_exporter": "python",
   "pygments_lexer": "ipython3",
   "version": "3.7.6"
  }
 },
 "nbformat": 4,
 "nbformat_minor": 2
}
