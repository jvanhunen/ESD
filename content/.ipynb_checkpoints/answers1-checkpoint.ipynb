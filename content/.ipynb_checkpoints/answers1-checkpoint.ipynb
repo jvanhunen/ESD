{
 "cells": [
  {
   "cell_type": "markdown",
   "metadata": {},
   "source": [
    "##  Answers week 1: heat transfer in the Earth\n",
    "\n",
    "<style type=\"text/css\">\n",
    "    ol { list-style-type: lower-alpha; }\n",
    "</style>\n",
    "\n",
    "<style type=\"text/css\">\n",
    "    ol ol { list-style-type: lower-alpha; }\n",
    "</style>"
   ]
  },
  {
   "cell_type": "markdown",
   "metadata": {},
   "source": [
    "1\\. __Key ideas/concepts: deriving units of physical parameters__   \n",
    "   0. $\\displaystyle q = -k\\frac{dT}{dz}$, where $q$ (in $\\displaystyle \\mathrm{\\frac{W}{m^2}}=\\frac{J}{m^2 s}$) is heat flow, $k$ is thermal conductivity, and $\\displaystyle \\frac{dT}{dz}$ (in K/m) is the spatial derivative of temperature in $z$-direction. So the units of $k$ are W/m,K $=$ J/s,m,K.\n",
    "   0. With a lithosphere thickness of $100$ km = $10^5$ m, and a temperature of the surface and the mantle of 0 and 1000 $\\mathrm {}^oC$, respectively, this gives \\\\ \n",
    "$q = -4\\times(1000-0)/10^5 = -0.04 \\mathrm{W/m^2}$, or 40 $\\mathrm {mW/m^2}$. \n",
    "   0. $40$ W / $0.04$ $\\mathrm{ W/m^2}$ = $1000$ $\\mathrm{m^2}$, about the area of the Earth Science building. So the Earth is releasing quite a lot of energy.\n",
    "   0. Multiply 0.04 $\\mathrm{W/m^2}$ by $4\\pi r^2$ surface area of Earth, with r=6371 km = 6371,000 m. This gives around $2\\times10^{13}$ W = $20$ TW. \n",
    "   0. Because no heat production assumed, and because oceanic lithosphere is thinner, so has a higher heat flow."
   ]
  },
  {
   "cell_type": "markdown",
   "metadata": {},
   "source": [
    "2\\. __Key ideas/concepts: deriving units of physical parameters__   \n",
    "   0. $T$ has units of $K$, $t$ has units of $s$, and $x$ has units of $m$. Therefore $\\kappa$ has units of $\\mathrm {m^2/s}$."
   ]
  },
  {
   "cell_type": "markdown",
   "metadata": {},
   "source": [
    "3\\. __Key ideas/concepts: estimating diffusion time- and length scales__   \n",
    "   0. If heat would only transport by diffusion and only vertically upwards, the heat equation would reduce to the one-dimensional diffusion equation \n",
    "$\\displaystyle \\frac{\\partial T}{\\partial t} = \\kappa \\frac{\\partial^2 T}{\\partial z^2}$. Approximating the differentials gives $\\displaystyle \\frac{\\Delta T}{\\Delta t} = \\kappa \\frac{\\Delta T}{\\Delta z^2}$, which reduces to $\\displaystyle \\Delta t = \\frac{\\Delta z^2}{\\kappa}$ or $\\Delta z = \\sqrt{\\kappa \\Delta t}$. Using $\\Delta z = 3000$ km = $3\\times 10^6$ m and $\\kappa=10^{-6}$ $\\mathrm {m^2/s}$, cooling the mantle takes approximately $\\Delta t=9 \\times 10^{18}$ s = 285 Gyrs, more than 60 times the age of the Earth. This is clearly an overestimate: Earth does not only use diffusion to transport heat, but advection as well (which expresses itself as plate tectonics, more about this later). This will speed up the cooling significantly.\n",
    "   0. The simplest way to solve this is to assume a reference frame that moves with the water, so that, in that reference frame, the water is not moving. The flow speed will determine how long the water will be in contact with the mine walls, and hence the heating time. In this case, heat will predominantly flow in the two directions perpendicular to the flow direction, so, assuming diffusion of heat into a laminar flow of water will govern the heat transfer in this case (an assumption that could easily be challenged!), we have to consider the 2-D heat equation \n",
    "$\\displaystyle \\frac{\\partial T}{\\partial t} = \\kappa \\frac{\\partial^2 T}{\\partial y^2} + \\kappa \\frac{\\partial^2 T}{\\partial z^2}$. Approximating the differentials gives \n",
    "$\\displaystyle \\frac{\\Delta T}{\\Delta t} = \\kappa \\frac{\\Delta T}{\\Delta y^2} + \\kappa \\frac{\\Delta T}{\\Delta z^2}$. Dividing by $\\Delta T$, and substituting $\\Delta y = \\Delta z = 1$ m (half the width or height of the mine tunnel), gives a minimum heating time of $\\displaystyle \\Delta t = \\frac{2}{\\kappa}$. This requires a maximum velocity $\\displaystyle v = \\frac{1000}{2/\\kappa} = 500 \\kappa$. Using $\\displaystyle \\kappa = \\frac{k}{\\rho C_P} \\approx 1.4 \\times 10^{-7}$ ${\\mathrm m^2/sec}$, this gives a velocity of approximately $7 \\times 10^{-5}$ m/s, or about 6 m/day."
   ]
  },
  {
   "cell_type": "markdown",
   "metadata": {},
   "source": [
    "<style type=\"text/css\">\n",
    "    ol { list-style-type: lower-alpha; }\n",
    "</style>\n",
    "\n",
    "<style type=\"text/css\">\n",
    "    ol ol { list-style-type: lower-alpha; }\n",
    "</style>\n",
    "\n",
    "4\\. __Key ideas/concepts: estimating diffusion time- and length scales 2: penetration of periodic surface temperature fluctuations__   \n",
    "   0. Heat only transports by diffusion in these cases, so  the heat equation reduces to \n",
    "$\\displaystyle \\frac{\\partial T}{\\partial t} = \\kappa \\frac{\\partial^2 T}{\\partial z^2}$. \n",
    "Approximating the differentials gives $\\displaystyle \\frac{\\Delta T}{\\Delta t} = \\kappa \\frac{\\Delta T}{\\Delta z^2}$, which reduces to $\\displaystyle \\Delta t = \\frac{\\Delta z^2}{\\kappa}$ or $\\Delta z = \\sqrt{\\kappa \\Delta t}$. \n",
    "Penetration depth of daily heat (roughly 12 hours of heating, 12 hours of cooling)  is (using $\\kappa=10^{-6}$ ${\\mathrm m^2/s}$ ) = 21 cm, and for yearly heat (half a year of heating, half a year of cooling) is $\\sim 4$ m. \n",
    "Note that these answers are order-of-magnitude estimates only, so more than one significant figure/digit in the answer is probably not justified.\n",
    "   0. The amplitude of the fluctuation is controlled by the \n",
    "$\\displaystyle \\exp{\\left(-z\\sqrt{\\frac{\\omega}{2 \\kappa}}\\right)}$ part of the solution. A daily fluctuation has a period of 24 hours, which can be translated into $\\displaystyle \\omega = \\frac{2 \\pi}{\\tau}$. Setting $\\displaystyle \\exp{\\left(-z\\sqrt{\\frac{\\pi}{\\kappa \\tau}}\\right)} = \\frac{1}{e}$ gives  $\\displaystyle z=\\sqrt{\\frac{\\kappa \\tau}{\\pi}}$. For daily and yearly fluctuations, this gives a skin depth of 17 cm and 3.2 m, respectively. These values are somewhat lower than the rough estimates in part a, but still comparable. "
   ]
  },
  {
   "cell_type": "code",
   "execution_count": null,
   "metadata": {
    "tags": [
     "hide_input"
    ]
   },
   "outputs": [],
   "source": [
    "# heatpen_osc\n",
    "# Calculating daily or yearly heat penetration into the ground\n",
    "# \n",
    "# Earth Structure and Dynamics 2021, week 1, question 4\n",
    "# Jeroen van Hunen, 20200426\n",
    "\n",
    "import numpy as np\n",
    "import matplotlib.pyplot as plt\n",
    "\n",
    "# Initialisation of the parameters:\n",
    "T0     = 10            # Average surface temperature\n",
    "dT     = 5             # Temperature fluctuation\n",
    "kappa  = 1e-6          # Thermal diffusivity\n",
    "tau    = 24*60*60      # period of oscillation (1 day)\n",
    "zmax   = 2             # Max depth to calculate/plot\n",
    "nz     = 100           # number of depth for plotting\n",
    "tmax   = 24*60*60      # Max depth to calculate/plot \n",
    "nt     = 24            # number of timesteps for plotting\n",
    "tplot  = 6*60*60       # time of snapshot for plotting (in sec)\n",
    "zplot  = 0.5           # depth for plot (in m)\n",
    "\n",
    "omega  = 2*np.pi/tau\n",
    "z      = np.linspace(0,zmax,nz)       # create depth array\n",
    "t      = np.linspace(0,tmax,nt)       # create depth array\n",
    "\n",
    "# plot of T against z for one specific time step:\n",
    "zphase = z*np.sqrt(omega/(2*kappa))   # pre-calc z phase delay\n",
    "Tz     = T0 + dT*np.exp(-zphase)*np.cos(omega*tplot-zphase) \n",
    "\n",
    "# plot of T against time for one specific depth:\n",
    "zphase = zplot*np.sqrt(omega/(2*kappa))   # pre-calc z phase delay\n",
    "Tt     = T0 + dT*np.exp(-zphase)*np.cos(omega*t-zphase) \n",
    "\n",
    "# Plot z-solution:\n",
    "plt.clf()\n",
    "plt.figure(1)\n",
    "plt.plot (Tz,z,'-')\n",
    "plt.xlabel('T$(^oC)$')\n",
    "plt.ylabel('z(m)')\n",
    "plt.title('T-distribution against depth for t=%1.1f hours' %(tplot/60/60))\n",
    "ax=plt.gca()\n",
    "ax.set_ylim(ax.get_ylim()[::-1])\n",
    "plt.show()\n",
    "\n",
    "# Plot t-solution:\n",
    "plt.figure(2)\n",
    "plt.plot (t,Tt,'-')\n",
    "plt.xlabel('t(sec)')\n",
    "plt.ylabel('T$(^oC)$')\n",
    "plt.title('T-distribution in time at z=%1.1f m' %zplot)\n",
    "plt.show()"
   ]
  },
  {
   "cell_type": "markdown",
   "metadata": {},
   "source": [
    "5\\. __Key ideas/concepts: competition between advection and diffusion at mid-ocean ridges__   \n",
    "   0. Relevant terms are diffusion and advection terms in $z$-direction only, since the MOR is in approximate steady state, and radiogenic heat production is not important on the short timescale. So:  \n",
    " $\\displaystyle \\kappa \\frac{d^2T}{dz^2} - v_z\\frac{dT}{dz} = 0$.\n",
    "\\item Approximating the differentials gives $\\displaystyle \\kappa \\frac{\\Delta T}{\\Delta z^2} - v_z\\frac{\\Delta T}{\\Delta z} = 0$, or $\\displaystyle \\Delta z = \\frac{\\kappa}{v_z}$.\n",
    "   0. Using $\\kappa=10^{-6}$ $\\mathrm{m^2/s}$ and 1 cm/yr and 10 cm/yr as slow- and fast spreading rates, this gives an approximate thickness of 3000 m and 300 m, respectively.\n",
    "   0. Potential shortcomings are 1) the negligence of latent heat of crustal solidifications, 2) slow spreading ridges are probably not in steady state, and 3) cooling from hydrothermal circulation."
   ]
  },
  {
   "cell_type": "markdown",
   "metadata": {},
   "source": [
    "6\\. __Key ideas/concepts: the significance of radiogenic heat production__   \n",
    "   0. Without diffusion or advection, the heat equation reduces to: $\\displaystyle \\frac{dT}{dt}=\\frac{H}{C_P} = 2x10^{-12}$ J/kg,s / 1000 J/kg,K = $2 \\times 10^{-15}$ K/s = $0.063$ K/Myr.\n",
    "   0. This is about 6 K over the 100-Myr lifespan of oceanic lithosphere. This illustrates that radiogenic heating is negligible in oceanic mantle lithosphere.  \n"
   ]
  }
 ],
 "metadata": {
  "celltoolbar": "Tags",
  "kernelspec": {
   "display_name": "Python 3",
   "language": "python",
   "name": "python3"
  },
  "language_info": {
   "codemirror_mode": {
    "name": "ipython",
    "version": 3
   },
   "file_extension": ".py",
   "mimetype": "text/x-python",
   "name": "python",
   "nbconvert_exporter": "python",
   "pygments_lexer": "ipython3",
   "version": "3.7.6"
  }
 },
 "nbformat": 4,
 "nbformat_minor": 2
}
